{
 "cells": [
  {
   "attachments": {},
   "cell_type": "markdown",
   "metadata": {},
   "source": [
    "# CCF Report"
   ]
  },
  {
   "cell_type": "code",
   "execution_count": null,
   "metadata": {},
   "outputs": [],
   "source": [
    "import pandas as pd\n",
    "from IPython.display import display, Markdown, Latex\n",
    "from typing import List\n",
    "\n",
    "import src.ccf as ccf\n",
    "\n",
    "pd.options.display.float_format = '{:,.3f}'.format\n",
    "pd.options.display.max_rows = None\n",
    "pd.options.display.max_columns = None\n",
    "\n",
    "path_to_cache_file = '../cloud-carbon-footprint/packages/cli/estimates.cache.day.json'"
   ]
  },
  {
   "cell_type": "code",
   "execution_count": null,
   "metadata": {},
   "outputs": [],
   "source": [
    "estimates = ccf.load_estimates(path_to_cache_file)\n",
    "\n",
    "tags: List[str] = []\n",
    "\n",
    "for column in estimates.columns.tolist():\n",
    "    if column.startswith('tags.'):\n",
    "        tags.append(column)\n",
    "\n",
    "for tag in tags:\n",
    "    estimates = ccf.normalize_column(estimates, tag)"
   ]
  },
  {
   "attachments": {},
   "cell_type": "markdown",
   "metadata": {},
   "source": [
    "## Table of contents"
   ]
  },
  {
   "cell_type": "code",
   "execution_count": null,
   "metadata": {},
   "outputs": [],
   "source": [
    "toc = \"\"\"\n",
    "1. [Overview](#ccf-report)\n",
    "2. [Per service](#Per-service)\n",
    "3. [Per tag](#Per-tag)\\n\n",
    "\"\"\"\n",
    "\n",
    "for i, tag in enumerate(tags):\n",
    "    toc += f\"\\t3.{i} [{tag}](#Per-{tag})\\n\\n\"\n",
    "\n",
    "toc += \"4. [Detailed](#Detailed)\"\n",
    "\n",
    "display(Markdown(toc))"
   ]
  },
  {
   "attachments": {},
   "cell_type": "markdown",
   "metadata": {},
   "source": [
    "Data in this report ranges from:"
   ]
  },
  {
   "cell_type": "code",
   "execution_count": null,
   "metadata": {},
   "outputs": [],
   "source": [
    "first = estimates.iloc[0]['timestamp']\n",
    "last = estimates.iloc[-1]['timestamp']\n",
    "print(f\"{first} to {last}\")"
   ]
  },
  {
   "attachments": {},
   "cell_type": "markdown",
   "metadata": {},
   "source": [
    "The total power consumption in this time range is:"
   ]
  },
  {
   "cell_type": "code",
   "execution_count": null,
   "metadata": {},
   "outputs": [],
   "source": [
    "summed = ccf.sum_columns(estimates)\n",
    "kwh = summed[0]['kilowattHours']\n",
    "display(Markdown(f\"{round(kwh, 2)} kWh\"))"
   ]
  },
  {
   "attachments": {},
   "cell_type": "markdown",
   "metadata": {},
   "source": [
    "Power consumption as a time series:"
   ]
  },
  {
   "cell_type": "code",
   "execution_count": null,
   "metadata": {},
   "outputs": [],
   "source": [
    "def plot_time_series(estimates: pd.DataFrame, title: str):\n",
    "    time_series = ccf.sum_per_column(estimates, 'timestamp')\n",
    "    time_series = time_series.sort_values(by=['timestamp'])\n",
    "    time_series = time_series.reset_index()\n",
    "    time_series[['timestamp', 'kilowattHours']].plot(x='timestamp', ylim=[0, time_series['kilowattHours'].max() * 1.1], ylabel='kWh', title=title)"
   ]
  },
  {
   "cell_type": "code",
   "execution_count": null,
   "metadata": {},
   "outputs": [],
   "source": [
    "plot_time_series(estimates, 'Total power consumption')"
   ]
  },
  {
   "attachments": {},
   "cell_type": "markdown",
   "metadata": {},
   "source": [
    "## Per service"
   ]
  },
  {
   "cell_type": "code",
   "execution_count": null,
   "metadata": {},
   "outputs": [],
   "source": [
    "per_service = ccf.sum_per_column(estimates, 'serviceName')[['serviceName', 'kilowattHours', 'co2e', 'cost']]\n",
    "per_service"
   ]
  },
  {
   "attachments": {},
   "cell_type": "markdown",
   "metadata": {},
   "source": [
    "## Per tag"
   ]
  },
  {
   "cell_type": "code",
   "execution_count": null,
   "metadata": {},
   "outputs": [],
   "source": [
    "for tag in tags:\n",
    "    per_tag = ccf.sum_per_column(estimates, tag)\n",
    "    display(Markdown(f'### Per {tag}'))\n",
    "    display(per_tag[[tag, 'kilowattHours', 'co2e', 'cost']])"
   ]
  },
  {
   "attachments": {},
   "cell_type": "markdown",
   "metadata": {},
   "source": [
    "## Detailed"
   ]
  },
  {
   "cell_type": "code",
   "execution_count": null,
   "metadata": {},
   "outputs": [],
   "source": [
    "detail_toc = \"\"\n",
    "\n",
    "for i, tag in enumerate(tags):\n",
    "    detail_toc += f\"4.{i} [{tag}](#Details-for-{tag})\\n\\n\"\n",
    "\n",
    "    tag_values = ccf.sum_per_column(estimates, tag)[tag].tolist()\n",
    "    for j, tag_value in enumerate(tag_values):\n",
    "        detail_toc += f\"4.{i}.{j} [{tag}: {tag_value}](#Details-{tag}:-{tag_value})\\n\\n\"\n",
    "\n",
    "display(Markdown(detail_toc))"
   ]
  },
  {
   "cell_type": "code",
   "execution_count": null,
   "metadata": {},
   "outputs": [],
   "source": [
    "for tag in tags:\n",
    "    display(Markdown(f\"### Details for {tag}\"))\n",
    "\n",
    "    tag_values = ccf.sum_per_column(estimates, tag)[tag].tolist()\n",
    "    for tag_value in tag_values:\n",
    "        display(Markdown(f\"#### Details {tag}: {tag_value}\"))\n",
    "        filtered = ccf.filter_estimates(estimates, tag, [tag_value])\n",
    "        total = ccf.sum_columns(filtered)[0]['kilowattHours']\n",
    "        display(Markdown(f\"Total: {round(total, 2)} kWh\"))\n",
    "        #plot_time_series(filtered, f\"Power consumption of {tag}: {tag_value}\")\n",
    "\n",
    "        per_service = ccf.sum_per_column(filtered, 'serviceName')[['serviceName', 'kilowattHours', 'co2e', 'cost']]\n",
    "        display(per_service)\n",
    "\n",
    "        for other_tag in tags:\n",
    "            if tag == other_tag:\n",
    "                continue\n",
    "            per_tag = ccf.sum_per_column(filtered, other_tag)\n",
    "            display(per_tag[[other_tag, 'kilowattHours', 'co2e', 'cost']])"
   ]
  }
 ],
 "metadata": {
  "kernelspec": {
   "display_name": "Python 3",
   "language": "python",
   "name": "python3"
  },
  "language_info": {
   "codemirror_mode": {
    "name": "ipython",
    "version": 3
   },
   "file_extension": ".py",
   "mimetype": "text/x-python",
   "name": "python",
   "nbconvert_exporter": "python",
   "pygments_lexer": "ipython3",
   "version": "3.10.6"
  },
  "orig_nbformat": 4,
  "vscode": {
   "interpreter": {
    "hash": "767d51c1340bd893661ea55ea3124f6de3c7a262a8b4abca0554b478b1e2ff90"
   }
  }
 },
 "nbformat": 4,
 "nbformat_minor": 2
}
