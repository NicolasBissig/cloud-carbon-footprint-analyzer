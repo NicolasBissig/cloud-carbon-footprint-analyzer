{
 "cells": [
  {
   "cell_type": "markdown",
   "metadata": {
    "collapsed": false
   },
   "source": [
    "# cloud-carbon-footprint analyzer"
   ]
  },
  {
   "attachments": {},
   "cell_type": "markdown",
   "metadata": {},
   "source": [
    "## settings"
   ]
  },
  {
   "cell_type": "code",
   "execution_count": null,
   "metadata": {},
   "outputs": [],
   "source": [
    "# general\n",
    "use_api = True \n",
    "\n",
    "# local\n",
    "ccf_path = \"/home/nbi/projects/hm/cloud-carbon-footprint\" # /home/user/projects/cloud-carbon-footprint\n",
    "\n",
    "# API\n",
    "start = \"2022-12-01\" # YYYY-MM-DD\n",
    "end = \"2022-12-31\" # YYYY-MM-DD\n",
    "\n",
    "# filtering\n",
    "tag_key = \"tags.customer\"\n",
    "tag_value = \"\"\n",
    "\n",
    "# interested\n",
    "field = \"kilowattHours\""
   ]
  },
  {
   "attachments": {},
   "cell_type": "markdown",
   "metadata": {},
   "source": [
    "## prepare"
   ]
  },
  {
   "cell_type": "code",
   "execution_count": null,
   "metadata": {
    "pycharm": {
     "is_executing": true
    }
   },
   "outputs": [],
   "source": [
    "import pandas as pd\n",
    "from src.ccf import *\n",
    "\n",
    "pd.options.display.float_format = '{:,.4f}'.format\n",
    "pd.options.display.max_rows = None\n",
    "pd.options.display.max_columns = None"
   ]
  },
  {
   "cell_type": "code",
   "execution_count": null,
   "metadata": {},
   "outputs": [],
   "source": [
    "estimates: pd.DataFrame\n",
    "\n",
    "if use_api:\n",
    "    print('starting API request, this can take a while ...')\n",
    "    estimates = request_estimates(start, end)\n",
    "else:\n",
    "    path = f'{ccf_path}/packages/api/estimates.cache.day.json'\n",
    "    print(f'reading from cache \"{path}\" ...')\n",
    "    estimates = load_estimates(path)\n",
    "\n",
    "if tag_value != \"\":\n",
    "    estimates = filter_estimates(estimates, tag_key, tag_value)"
   ]
  },
  {
   "cell_type": "markdown",
   "metadata": {},
   "source": [
    "## Summary"
   ]
  },
  {
   "cell_type": "code",
   "execution_count": null,
   "metadata": {},
   "outputs": [],
   "source": [
    "unique_values_per_colum(estimates)"
   ]
  },
  {
   "cell_type": "markdown",
   "metadata": {},
   "source": [
    "# extract"
   ]
  },
  {
   "cell_type": "code",
   "execution_count": null,
   "metadata": {},
   "outputs": [],
   "source": [
    "sum_columns(estimates)"
   ]
  },
  {
   "cell_type": "code",
   "execution_count": null,
   "metadata": {},
   "outputs": [],
   "source": [
    "per_service = sum_per_column(estimates, 'serviceName')\n",
    "per_service.plot.pie(y=field, legend = False, title = f\"{field} per service\", label = \"\")\n",
    "per_service"
   ]
  },
  {
   "cell_type": "code",
   "execution_count": null,
   "metadata": {},
   "outputs": [],
   "source": [
    "per_resource_group = sum_per_column(estimates, 'tags.resourceGroup')\n",
    "per_resource_group.plot.pie(y=field, legend = False, title = f\"{field} per resource group\", label = \"\")\n",
    "per_resource_group"
   ]
  },
  {
   "cell_type": "code",
   "execution_count": null,
   "metadata": {},
   "outputs": [],
   "source": [
    "per_customer = sum_per_column(estimates, 'tags.customer')\n",
    "per_customer.plot.pie(y=field, legend = False, title = f\"{field} per customer\", label = \"\")\n",
    "per_customer"
   ]
  },
  {
   "cell_type": "code",
   "execution_count": null,
   "metadata": {},
   "outputs": [],
   "source": [
    "per_project = sum_per_column(estimates, 'tags.project')\n",
    "per_project.plot.pie(y=field, legend = False, title = f\"{field} per project\", label = \"\")\n",
    "per_project"
   ]
  }
 ],
 "metadata": {
  "kernelspec": {
   "display_name": "Python 3.10.6 64-bit",
   "language": "python",
   "name": "python3"
  },
  "language_info": {
   "codemirror_mode": {
    "name": "ipython",
    "version": 3
   },
   "file_extension": ".py",
   "mimetype": "text/x-python",
   "name": "python",
   "nbconvert_exporter": "python",
   "pygments_lexer": "ipython3",
   "version": "3.10.6 (main, Nov 14 2022, 16:10:14) [GCC 11.3.0]"
  },
  "orig_nbformat": 4,
  "vscode": {
   "interpreter": {
    "hash": "767d51c1340bd893661ea55ea3124f6de3c7a262a8b4abca0554b478b1e2ff90"
   }
  }
 },
 "nbformat": 4,
 "nbformat_minor": 2
}
